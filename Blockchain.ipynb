{
 "cells": [
  {
   "cell_type": "markdown",
   "metadata": {},
   "source": [
    "实现一个区块结构"
   ]
  },
  {
   "cell_type": "code",
   "execution_count": 82,
   "metadata": {},
   "outputs": [],
   "source": [
    "import hashlib\n",
    "import uuid\n",
    "\n",
    "class Block(object):\n",
    "    def __init__(self, data=None, previous=None):\n",
    "        self.identifier=uuid.uuid4().hex #唯一标志\n",
    "        self.previous=previous #父节点\n",
    "        if previous:\n",
    "            self.previous_hash=previous.hash()\n",
    "        else:\n",
    "            self.previous_hash=None\n",
    "        self.data=data #区块内容\n",
    "        self.nouce=0 #nouce值\n",
    "        \n",
    "    def hash(self):\n",
    "        #计算区块的哈希值，包括区块的标示、数据、前一区块的哈希值和nonce值\n",
    "        message=hashlib.sha256()\n",
    "        message.update(self.identifier.encode(\"utf-8\"))\n",
    "        message.update(str(self.nouce).encode(\"utf-8\"))\n",
    "        message.update(str(self.data).encode(\"utf-8\"))\n",
    "        if self.previous:\n",
    "            message.update(str(self.previous_hash).encode(\"utf-8\"))\n",
    "        return message.hexdigest()\n",
    "    \n",
    "    def refresh_hash(self):\n",
    "        #更新哈希值\n",
    "        if self.previous:\n",
    "            self.previous_hash=self.previous.hash()\n",
    "        else:\n",
    "            self.previous_hash=None\n",
    "        \n",
    "    def mine(self):\n",
    "        #定义挖矿函数\n",
    "        #初始化nouce为0，递增nouce值，直到满足要求\n",
    "        cur_nouce=self.nouce or 0\n",
    "        \n",
    "        while True:\n",
    "            if self.hash_is_valid():\n",
    "                break\n",
    "            else:\n",
    "                self.nouce+=1\n",
    "    \n",
    "    def hash_is_valid(self):\n",
    "        #定义哈希值是否有效\n",
    "        return self.hash().startswith(\"0000\")\n",
    "    \n",
    "    def __repr__(self):\n",
    "        return \"block identifier:{}\".format(self.identifier)    "
   ]
  },
  {
   "cell_type": "code",
   "execution_count": 83,
   "metadata": {},
   "outputs": [
    {
     "data": {
      "text/plain": [
       "block identifier:61f02fcc03d44998b0ea872926ab7540"
      ]
     },
     "execution_count": 83,
     "metadata": {},
     "output_type": "execute_result"
    }
   ],
   "source": [
    "block=Block(\"hello world\")\n",
    "block.mine()\n",
    "block"
   ]
  },
  {
   "cell_type": "markdown",
   "metadata": {},
   "source": [
    "实现区块链结构"
   ]
  },
  {
   "cell_type": "code",
   "execution_count": 84,
   "metadata": {},
   "outputs": [],
   "source": [
    "class BlockChain(object):\n",
    "    def __init__(self):\n",
    "        self.head=None #指向最新的区块\n",
    "        self.blocks={} #将所有区块都放在字典里面\n",
    "        \n",
    "    def add_block(self,new_block):\n",
    "        #添加区块函数\n",
    "        new_block.previous=self.head\n",
    "        new_block.mine()\n",
    "        \n",
    "        self.blocks[new_block.identifier]=new_block\n",
    "        self.head=new_block\n",
    "    \n",
    "    def __repr__(self):\n",
    "        existing_block_num=len(self.blocks)\n",
    "        return \"BlockChain<{} Blocks , head {}>\".format(\n",
    "            existing_block_num,\n",
    "            self.head.identifier if self.head else None\n",
    "        )\n",
    "        \n",
    "    "
   ]
  },
  {
   "cell_type": "code",
   "execution_count": 77,
   "metadata": {
    "scrolled": true
   },
   "outputs": [
    {
     "name": "stdout",
     "output_type": "stream",
     "text": [
      "block identifier:09bec3e1f5744f629fa4db09dc36b708 is valid\n",
      "block identifier:8c2c52163d9942cebcad250cf400b71f is valid\n",
      "block identifier:d1a3c94b84ba46a1981ba0d6c9e6bbd5 is valid\n",
      "block identifier:06e2f2282945404abdbe39051686ef8f is valid\n",
      "block identifier:99748cd5e5f644e198d2cd411f07c182 is valid\n",
      "block identifier:b20e211c0dbf45f4ab7529683b00c983 is valid\n",
      "block identifier:91816d70eca24b498f61aee09617f821 is valid\n"
     ]
    }
   ],
   "source": [
    "chain=BlockChain()\n",
    "chain.add_block(block)\n",
    "\n",
    "for i in range(6):\n",
    "    new_block=Block(i)\n",
    "    chain.add_block(new_block)\n",
    "\n",
    "for i,v in chain.blocks.items():\n",
    "   if v.hash_is_valid():\n",
    "       print(\"{} is valid\".format(v))\n",
    "   else:\n",
    "       print(\"\\033[0;31m{} is invalid\\033[0m\")"
   ]
  },
  {
   "cell_type": "code",
   "execution_count": null,
   "metadata": {},
   "outputs": [],
   "source": []
  }
 ],
 "metadata": {
  "kernelspec": {
   "display_name": "Python 3",
   "language": "python",
   "name": "python3"
  },
  "language_info": {
   "codemirror_mode": {
    "name": "ipython",
    "version": 3
   },
   "file_extension": ".py",
   "mimetype": "text/x-python",
   "name": "python",
   "nbconvert_exporter": "python",
   "pygments_lexer": "ipython3",
   "version": "3.6.4"
  }
 },
 "nbformat": 4,
 "nbformat_minor": 2
}
